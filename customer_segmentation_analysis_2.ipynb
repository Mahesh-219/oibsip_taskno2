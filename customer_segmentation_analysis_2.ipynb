{
  "nbformat": 4,
  "nbformat_minor": 0,
  "metadata": {
    "colab": {
      "private_outputs": true,
      "provenance": [],
      "authorship_tag": "ABX9TyN01jl0Zwux+Scum4lKD1Kt",
      "include_colab_link": true
    },
    "kernelspec": {
      "name": "python3",
      "display_name": "Python 3"
    },
    "language_info": {
      "name": "python"
    }
  },
  "cells": [
    {
      "cell_type": "markdown",
      "metadata": {
        "id": "view-in-github",
        "colab_type": "text"
      },
      "source": [
        "<a href=\"https://colab.research.google.com/github/Mahesh-219/oibsip_taskno2/blob/main/customer_segmentation_analysis_2.ipynb\" target=\"_parent\"><img src=\"https://colab.research.google.com/assets/colab-badge.svg\" alt=\"Open In Colab\"/></a>"
      ]
    },
    {
      "cell_type": "code",
      "source": [
        "import numpy as np\n",
        "import pandas as pd\n",
        "import warnings\n",
        "warnings.filterwarnings(\"ignore\")\n",
        "import seaborn as sns\n",
        "import matplotlib.pyplot as plt\n",
        "from scipy.stats import pointbiserialr"
      ],
      "metadata": {
        "id": "M_ZYRzi1bpc5"
      },
      "execution_count": null,
      "outputs": []
    },
    {
      "cell_type": "code",
      "source": [
        "#Reading the data\n",
        "data = pd.read_csv('/content/ifood_df (1).csv')\n",
        "data.head()"
      ],
      "metadata": {
        "id": "mEr9V9F1bpZc"
      },
      "execution_count": null,
      "outputs": []
    },
    {
      "cell_type": "code",
      "source": [
        "data.columns"
      ],
      "metadata": {
        "id": "u-yDN1oCapQB"
      },
      "execution_count": null,
      "outputs": []
    },
    {
      "cell_type": "code",
      "source": [
        "data.isna().sum()"
      ],
      "metadata": {
        "id": "1X6lgfVpapM_"
      },
      "execution_count": null,
      "outputs": []
    },
    {
      "cell_type": "code",
      "source": [
        "data.info()"
      ],
      "metadata": {
        "id": "Bs8HgLFDapKE"
      },
      "execution_count": null,
      "outputs": []
    },
    {
      "cell_type": "code",
      "source": [
        "data.nunique()"
      ],
      "metadata": {
        "id": "VSRTikHbXxdU"
      },
      "execution_count": null,
      "outputs": []
    },
    {
      "cell_type": "code",
      "source": [
        "data.drop(columns=['Z_CostContact','Z_Revenue'],inplace=True)"
      ],
      "metadata": {
        "id": "FNdK6feGbFpt"
      },
      "execution_count": null,
      "outputs": []
    },
    {
      "cell_type": "code",
      "source": [
        "#Data Exploration\n",
        "#Box plot for the total amount spent on all products (MntTotal)\n",
        "plt.figure(figsize=(6, 4))\n",
        "sns.boxplot(data=data, y='MntTotal')\n",
        "plt.title('Box Plot for MntTotal')\n",
        "plt.ylabel('MntTotal')\n",
        "plt.show()"
      ],
      "metadata": {
        "id": "Tbp-hZ1WbFmL"
      },
      "execution_count": null,
      "outputs": []
    },
    {
      "cell_type": "code",
      "source": [
        "#Outliers\n",
        "Q1 = data['MntTotal'].quantile(0.25)\n",
        "Q3 = data['MntTotal'].quantile(0.75)\n",
        "IQR = Q3 - Q1\n",
        "lower_bound = Q1 - 1.5 * IQR\n",
        "upper_bound = Q3 + 1.5 * IQR\n",
        "outliers = data[(data['MntTotal'] < lower_bound) | (data['MntTotal'] > upper_bound)]\n",
        "outliers.head()"
      ],
      "metadata": {
        "id": "BwBzjq2qbFjf"
      },
      "execution_count": null,
      "outputs": []
    },
    {
      "cell_type": "code",
      "source": [
        "#Outliers removal\n",
        "data = data[(data['MntTotal'] > lower_bound) & (data['MntTotal'] < upper_bound)]\n",
        "data.describe()"
      ],
      "metadata": {
        "id": "HrlA_9yEbFg3"
      },
      "execution_count": null,
      "outputs": []
    },
    {
      "cell_type": "code",
      "source": [
        "#Box plot and histogram for income\n",
        "plt.figure(figsize=(6, 4))\n",
        "sns.boxplot(data=data, y='Income', palette='viridis')\n",
        "plt.title('Box Plot for Income')\n",
        "plt.ylabel('Income')\n",
        "plt.show()"
      ],
      "metadata": {
        "id": "2tDmyvQKbFeQ"
      },
      "execution_count": null,
      "outputs": []
    },
    {
      "cell_type": "code",
      "source": [
        "plt.figure(figsize=(8, 6))\n",
        "sns.histplot(data=data, x='Income', bins=30, kde=True)\n",
        "plt.title('Histogram for Income')\n",
        "plt.xlabel('Income')\n",
        "plt.ylabel('Frequency')\n",
        "plt.show()"
      ],
      "metadata": {
        "id": "9nhg8Uc7bFbh"
      },
      "execution_count": null,
      "outputs": []
    },
    {
      "cell_type": "code",
      "source": [
        "#Histogram for age\n",
        "plt.figure(figsize=(8, 6))\n",
        "sns.histplot(data=data, x='Age', bins=30, kde=True)\n",
        "plt.title('Histogram for Age')\n",
        "plt.xlabel('Age')\n",
        "plt.ylabel('Frequency')\n",
        "plt.show()"
      ],
      "metadata": {
        "id": "WKGgNn0pbFY2"
      },
      "execution_count": null,
      "outputs": []
    },
    {
      "cell_type": "code",
      "source": [
        "print(\"Skewness: %f\" % data['Age'].skew())\n",
        "print(\"Kurtosis: %f\" % data['Age'].kurt())"
      ],
      "metadata": {
        "id": "rhiz20jMdh0j"
      },
      "execution_count": null,
      "outputs": []
    },
    {
      "cell_type": "code",
      "source": [
        "#Correlation matrix\n",
        "cols_demographics = ['Income','Age']\n",
        "cols_children = ['Kidhome', 'Teenhome']\n",
        "cols_marital = ['marital_Divorced', 'marital_Married','marital_Single', 'marital_Together', 'marital_Widow']\n",
        "cols_mnt = ['MntTotal', 'MntRegularProds','MntWines', 'MntFruits', 'MntMeatProducts', 'MntFishProducts', 'MntSweetProducts', 'MntGoldProds']\n",
        "cols_communication = ['Complain', 'Response', 'Customer_Days']\n",
        "cols_campaigns = ['AcceptedCmpOverall', 'AcceptedCmp1', 'AcceptedCmp2', 'AcceptedCmp3', 'AcceptedCmp4', 'AcceptedCmp5']\n",
        "cols_source_of_purchase = ['NumDealsPurchases', 'NumWebPurchases','NumCatalogPurchases', 'NumStorePurchases', 'NumWebVisitsMonth']\n",
        "cols_education = ['education_2n Cycle', 'education_Basic', 'education_Graduation', 'education_Master', 'education_PhD']"
      ],
      "metadata": {
        "id": "lClnyxiadlIy"
      },
      "execution_count": null,
      "outputs": []
    },
    {
      "cell_type": "code",
      "source": [
        "corr_matrix = data[['MntTotal']+cols_demographics+cols_children].corr()\n",
        "plt.figure(figsize=(6,6))\n",
        "sns.heatmap(corr_matrix, annot=True, cmap='coolwarm', linewidths=0.5)\n",
        "plt.title('Correlation Matrix Heatmap')\n",
        "plt.show()"
      ],
      "metadata": {
        "id": "Op045rWCdlFS"
      },
      "execution_count": null,
      "outputs": []
    },
    {
      "cell_type": "code",
      "source": [
        "#Point-Biserial correlations for binary variables\n",
        "for col in cols_marital:\n",
        "    correlation, p_value = pointbiserialr(data[col], data['MntTotal'])\n",
        "    print(f'{correlation:.4f}: Point-Biserial Correlation for {col} with p-value {p_value:.4f}')"
      ],
      "metadata": {
        "id": "1bebJiHBdk7L"
      },
      "execution_count": null,
      "outputs": []
    },
    {
      "cell_type": "code",
      "source": [
        "for col in cols_education:\n",
        "    correlation, p_value = pointbiserialr(data[col], data['MntTotal'])\n",
        "    print(f'{correlation:.4f}: Point-Biserial Correlation for {col} with p-value {p_value:.4f}')"
      ],
      "metadata": {
        "id": "tzFYSAmLeMwR"
      },
      "execution_count": null,
      "outputs": []
    },
    {
      "cell_type": "code",
      "source": [
        "def get_marital_status(row):\n",
        "    if row['marital_Divorced'] == 1:\n",
        "        return 'Divorced'\n",
        "    elif row['marital_Married'] == 1:\n",
        "        return 'Married'\n",
        "    elif row['marital_Single'] == 1:\n",
        "        return 'Single'\n",
        "    elif row['marital_Together'] == 1:\n",
        "        return 'Together'\n",
        "    elif row['marital_Widow'] == 1:\n",
        "        return 'Widow'\n",
        "    else:\n",
        "        return 'Unknown'\n",
        "data['Marital'] = data.apply(get_marital_status, axis=1)"
      ],
      "metadata": {
        "id": "3Bmvyr8Ue_CG"
      },
      "execution_count": null,
      "outputs": []
    },
    {
      "cell_type": "code",
      "source": [
        "plt.figure(figsize=(8, 6))\n",
        "sns.barplot(x='Marital', y='MntTotal', data=data, palette='viridis')\n",
        "plt.title('MntTotal by marital status')\n",
        "plt.xlabel('Marital status')\n",
        "plt.ylabel('MntTotal')"
      ],
      "metadata": {
        "id": "iHEY2IXce--c"
      },
      "execution_count": null,
      "outputs": []
    },
    {
      "cell_type": "code",
      "source": [
        "#New feature: In_relationship\n",
        "def get_relationship(row):\n",
        "    if row['marital_Married'] ==1:\n",
        "        return 1\n",
        "    elif row['marital_Together'] == 1:\n",
        "        return 1\n",
        "    else:\n",
        "        return 0\n",
        "data['In_relationship'] = data.apply(get_relationship, axis=1)\n",
        "data.head()"
      ],
      "metadata": {
        "id": "C63NKBDxe-tm"
      },
      "execution_count": null,
      "outputs": []
    },
    {
      "cell_type": "code",
      "source": [
        "#K-Means Clustering\n",
        "from sklearn.cluster import KMeans"
      ],
      "metadata": {
        "id": "3LakJBM4e-eg"
      },
      "execution_count": null,
      "outputs": []
    },
    {
      "cell_type": "code",
      "source": [
        "from sklearn.preprocessing import StandardScaler\n",
        "scaler = StandardScaler()\n",
        "cols_for_clustering = ['Income', 'MntTotal', 'In_relationship']\n",
        "data_scaled = data.copy()\n",
        "data_scaled[cols_for_clustering] = scaler.fit_transform(data[cols_for_clustering])\n",
        "data_scaled[cols_for_clustering].describe()"
      ],
      "metadata": {
        "id": "K5fSQ05afe4E"
      },
      "execution_count": null,
      "outputs": []
    },
    {
      "cell_type": "code",
      "source": [
        "#Principal Component Analysis (PCA)\n",
        "from sklearn import decomposition\n",
        "pca = decomposition.PCA(n_components = 2)\n",
        "pca_res = pca.fit_transform(data_scaled[cols_for_clustering])\n",
        "data_scaled['pc1'] = pca_res[:,0]\n",
        "data_scaled['pc2'] = pca_res[:,1]"
      ],
      "metadata": {
        "id": "NR0yPMQLfe1W"
      },
      "execution_count": null,
      "outputs": []
    },
    {
      "cell_type": "code",
      "source": [
        "#Elbow method\n",
        "X = data_scaled[cols_for_clustering]\n",
        "inertia_list = []\n",
        "for K in range(2,10):\n",
        "    inertia = KMeans(n_clusters=K, random_state=7).fit(X).inertia_\n",
        "    inertia_list.append(inertia)"
      ],
      "metadata": {
        "id": "nt2OeaiFgAXI"
      },
      "execution_count": null,
      "outputs": []
    },
    {
      "cell_type": "code",
      "source": [
        "plt.figure(figsize=[7,5])\n",
        "plt.plot(range(2,10), inertia_list, color=(54 / 255, 113 / 255, 130 / 255))\n",
        "plt.title(\"Inertia vs. Number of Clusters\")\n",
        "plt.xlabel(\"Number of Clusters (K)\")\n",
        "plt.ylabel(\"Inertia\")\n",
        "plt.show()"
      ],
      "metadata": {
        "id": "4RrKW4wHfey_"
      },
      "execution_count": null,
      "outputs": []
    },
    {
      "cell_type": "code",
      "source": [
        "#Silhouette score analysis\n",
        "from sklearn.metrics import silhouette_score\n",
        "silhouette_list = []\n",
        "for K in range(2,10):\n",
        "    model = KMeans(n_clusters = K, random_state=7)\n",
        "    clusters = model.fit_predict(X)\n",
        "    s_avg = silhouette_score(X, clusters)\n",
        "    silhouette_list.append(s_avg)\n",
        "\n",
        "plt.figure(figsize=[7,5])\n",
        "plt.plot(range(2,10), silhouette_list, color=(54 / 255, 113 / 255, 130 / 255))\n",
        "plt.title(\"Silhouette Score vs. Number of Clusters\")\n",
        "plt.xlabel(\"Number of Clusters (K)\")\n",
        "plt.ylabel(\"Silhouette Score\")\n",
        "plt.show()"
      ],
      "metadata": {
        "id": "m0lq8p2xfewM"
      },
      "execution_count": null,
      "outputs": []
    },
    {
      "cell_type": "code",
      "source": [
        "model = KMeans(n_clusters=4, random_state = 7)\n",
        "model.fit(data_scaled[cols_for_clustering])\n",
        "data_scaled['Cluster'] = model.predict(data_scaled[cols_for_clustering])"
      ],
      "metadata": {
        "id": "Y-1Fd6DkgOCa"
      },
      "execution_count": null,
      "outputs": []
    },
    {
      "cell_type": "code",
      "source": [
        "#Exploration of Clusters\n",
        "#Visualisation of clusters#\n",
        "plt.figure(figsize=(8, 6))\n",
        "sns.scatterplot(x='pc1', y='pc2', data=data_scaled, hue='Cluster', palette='viridis')\n",
        "plt.title('Clustered Data Visualization')\n",
        "plt.xlabel('Principal Component 1 (pc1)')\n",
        "plt.ylabel('Principal Component 2 (pc2)')\n",
        "plt.legend(title='Clusters')"
      ],
      "metadata": {
        "id": "5GlqerVmgOAZ"
      },
      "execution_count": null,
      "outputs": []
    },
    {
      "cell_type": "code",
      "source": [
        "data['Cluster'] = data_scaled.Cluster\n",
        "data.groupby('Cluster')[cols_for_clustering].mean()"
      ],
      "metadata": {
        "id": "w4yY-oWZgN9f"
      },
      "execution_count": null,
      "outputs": []
    },
    {
      "cell_type": "code",
      "source": [
        "#Mean consumption of different product types by cluster\n",
        "mnt_data = data.groupby('Cluster')[cols_mnt].mean().reset_index()\n",
        "mnt_data.head()"
      ],
      "metadata": {
        "id": "40iv6Jtfgq5b"
      },
      "execution_count": null,
      "outputs": []
    },
    {
      "cell_type": "code",
      "source": [
        "melted_data = pd.melt(mnt_data, id_vars=\"Cluster\", var_name=\"Product\", value_name=\"Consumption\")\n",
        "plt.figure(figsize=(12, 6))\n",
        "sns.barplot(x=\"Cluster\", y=\"Consumption\", hue=\"Product\", data=melted_data, ci=None, palette=\"viridis\")\n",
        "plt.title(\"Product Consumption by Cluster\")\n",
        "plt.xlabel(\"Cluster\")\n",
        "plt.ylabel(\"Product Consumption\")\n",
        "plt.xticks(rotation=0)\n",
        "plt.legend(title=\"Product\", loc=\"upper right\")\n",
        "\n",
        "plt.show()"
      ],
      "metadata": {
        "id": "WSVCfjcLgq1-"
      },
      "execution_count": null,
      "outputs": []
    },
    {
      "cell_type": "code",
      "source": [
        "#Cluster sizes\n",
        "cluster_sizes = data.groupby('Cluster')[['MntTotal']].count().reset_index()\n",
        "plt.figure(figsize=(8,6))\n",
        "sns.barplot(x='Cluster', y='MntTotal', data=cluster_sizes, palette = 'viridis')\n",
        "plt.title('Cluster sizes')\n",
        "plt.xlabel('Cluster')\n",
        "plt.ylabel('MntTotal')\n"
      ],
      "metadata": {
        "id": "kVOSpFqBgqzC"
      },
      "execution_count": null,
      "outputs": []
    },
    {
      "cell_type": "code",
      "source": [
        "total_rows = len(data)\n",
        "cluster_sizes['Share%'] = round(cluster_sizes['MntTotal'] / total_rows*100,0)\n",
        "cluster_sizes.head()"
      ],
      "metadata": {
        "id": "jHtFqis4g92g"
      },
      "execution_count": null,
      "outputs": []
    },
    {
      "cell_type": "code",
      "source": [
        "#Box plot\n",
        "plt.figure(figsize=(8, 6))\n",
        "sns.boxplot(x='Cluster', y='Income', data=data, palette='viridis')\n",
        "plt.title('Income by cluster')\n",
        "plt.xlabel('Cluster')\n",
        "plt.ylabel('Income')\n",
        "plt.legend(title='Clusters')"
      ],
      "metadata": {
        "id": "pen584OQhFoX"
      },
      "execution_count": null,
      "outputs": []
    },
    {
      "cell_type": "code",
      "source": [
        "#scatter plot\n",
        "plt.figure(figsize=(8, 6))\n",
        "sns.scatterplot(x='Income', y='MntTotal', data=data, hue = 'Cluster', palette='viridis')\n",
        "plt.title('Income by cluster')\n",
        "plt.xlabel('Income')\n",
        "plt.ylabel('MntTotal')\n",
        "plt.legend(title='Clusters')"
      ],
      "metadata": {
        "id": "02ldIQxBhLKO"
      },
      "execution_count": null,
      "outputs": []
    },
    {
      "cell_type": "code",
      "source": [
        "plt.figure(figsize=(8, 6))\n",
        "sns.barplot(x='Cluster', y='In_relationship', data=data, palette='viridis')\n",
        "plt.title('In_relationship by cluster')\n",
        "plt.xlabel('Cluster')\n",
        "plt.ylabel('In_relationship')"
      ],
      "metadata": {
        "id": "sWKfUE0ihX4F"
      },
      "execution_count": null,
      "outputs": []
    }
  ]
}